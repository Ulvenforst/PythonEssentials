{
 "cells": [
  {
   "cell_type": "markdown",
   "id": "6d8279ab",
   "metadata": {},
   "source": [
    "## Extending the Messenger\n",
    "\n",
    "Create a class \"SaveMessages\" that extends the Messenger class that does the following things:\n",
    "\n",
    "- Add any messages it receives to a list, along with the time the message was received\n",
    "- Use the provided \"getCurrentTime\" function so that the received message time is a string\n",
    "- Contains a method called \"printMessages\" that prints all collected messages when it's called.\n",
    "\n",
    "You might also consider clearing the message list when \"printMessages\" is called. \n"
   ]
  },
  {
   "cell_type": "code",
   "execution_count": 71,
   "id": "35d4f1f5",
   "metadata": {},
   "outputs": [],
   "source": [
    "from datetime import datetime\n",
    "\n",
    "def getCurrentTime():\n",
    "    return datetime.now().strftime(\"%m-%d-%Y %H:%M:%S\")\n",
    "\n",
    "class Messenger:\n",
    "    def __init__(self, listeners=[]):\n",
    "        self.listeners = listeners\n",
    "    \n",
    "    def send(self, message):\n",
    "        for listener in self.listeners:\n",
    "            listener.receive(message)\n",
    "\n",
    "    def receive(self, message):\n",
    "        # Must be implemented by extending classes\n",
    "        pass\n",
    "\n",
    "class SaveMessages(Messenger):\n",
    "    def __init__(self, listeners=[]):\n",
    "        super().__init__(listeners)\n",
    "        self.message_list = []\n",
    "\n",
    "    def receive(self, message):\n",
    "        self.message_list.append(f\"'{message}' - {getCurrentTime()}\")\n",
    "    \n",
    "    def printMessages(self):\n",
    "        for message in self.message_list:\n",
    "            print(message)\n",
    "\n"
   ]
  },
  {
   "cell_type": "code",
   "execution_count": 72,
   "id": "608e3112",
   "metadata": {},
   "outputs": [],
   "source": [
    "# Run this cell after you've written your solution\n",
    "listener = SaveMessages()\n",
    "\n",
    "sender = Messenger([listener])\n",
    "\n",
    "sender.send('Hello, there! This is the first message')\n"
   ]
  },
  {
   "cell_type": "code",
   "execution_count": 76,
   "id": "2de8c179",
   "metadata": {},
   "outputs": [],
   "source": [
    "# Run this cell after you've written your solution\n",
    "sender.send('Oh hi! This is the second message!')"
   ]
  },
  {
   "cell_type": "code",
   "execution_count": 85,
   "id": "29c00698",
   "metadata": {},
   "outputs": [
    {
     "name": "stdout",
     "output_type": "stream",
     "text": [
      "'Hello, there! This is the first message' - 02-21-2023 20:57:39\n",
      "'Oh hi! This is the second message!' - 02-21-2023 20:57:41\n",
      "'Hola! This is the third and final message!' - 02-21-2023 20:57:43\n",
      "'Hola! This is the third and final message!' - 02-21-2023 20:57:46\n",
      "'Oh hi! This is the second message!' - 02-21-2023 20:57:50\n",
      "'Hola! This is the third and final message!' - 02-21-2023 20:57:51\n",
      "'This is a test' - 02-21-2023 20:57:55\n",
      "'Hola! This is the third and final message!' - 02-21-2023 20:58:22\n"
     ]
    }
   ],
   "source": [
    "# Run this cell after you've written your solution\n",
    "sender.send('Hola! This is the third and final message!')\n",
    "\n",
    "listener.printMessages()"
   ]
  },
  {
   "cell_type": "code",
   "execution_count": 83,
   "id": "af1ab261",
   "metadata": {},
   "outputs": [],
   "source": [
    "listener2 = SaveMessages()\n",
    "\n",
    "sender2 = Messenger([listener2])\n",
    "\n",
    "sender2.send('This is a test')"
   ]
  },
  {
   "cell_type": "code",
   "execution_count": 84,
   "id": "c63b7959",
   "metadata": {},
   "outputs": [
    {
     "name": "stdout",
     "output_type": "stream",
     "text": [
      "'This is a test' - 02-21-2023 20:58:14\n"
     ]
    }
   ],
   "source": [
    "listener2.printMessages()"
   ]
  }
 ],
 "metadata": {
  "kernelspec": {
   "display_name": "Python 3.10.4 64-bit",
   "language": "python",
   "name": "python3"
  },
  "language_info": {
   "codemirror_mode": {
    "name": "ipython",
    "version": 3
   },
   "file_extension": ".py",
   "mimetype": "text/x-python",
   "name": "python",
   "nbconvert_exporter": "python",
   "pygments_lexer": "ipython3",
   "version": "3.10.4"
  },
  "vscode": {
   "interpreter": {
    "hash": "949777d72b0d2535278d3dc13498b2535136f6dfe0678499012e853ee9abcab1"
   }
  }
 },
 "nbformat": 4,
 "nbformat_minor": 5
}
